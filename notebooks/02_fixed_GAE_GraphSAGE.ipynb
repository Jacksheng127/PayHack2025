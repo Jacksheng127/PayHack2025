{
 "cells": [
  {
   "cell_type": "markdown",
   "id": "63297185",
   "metadata": {},
   "source": [
    "# GNN Anomaly Detection with GAE + GraphSAGE using BankSim"
   ]
  },
  {
   "cell_type": "code",
   "execution_count": 1,
   "id": "a2a2c3e3",
   "metadata": {},
   "outputs": [
    {
     "name": "stdout",
     "output_type": "stream",
     "text": [
      "   step       customer  age gender zipcodeOri       merchant zipMerchant  \\\n",
      "0     0  'C1093826151'  '4'    'M'    '28007'   'M348934600'     '28007'   \n",
      "1     0   'C352968107'  '2'    'M'    '28007'   'M348934600'     '28007'   \n",
      "2     0  'C2054744914'  '4'    'F'    '28007'  'M1823072687'     '28007'   \n",
      "3     0  'C1760612790'  '3'    'M'    '28007'   'M348934600'     '28007'   \n",
      "4     0   'C757503768'  '5'    'M'    '28007'   'M348934600'     '28007'   \n",
      "\n",
      "              category  amount  fraud  \n",
      "0  'es_transportation'    4.55      0  \n",
      "1  'es_transportation'   39.68      0  \n",
      "2  'es_transportation'   26.89      0  \n",
      "3  'es_transportation'   17.25      0  \n",
      "4  'es_transportation'   35.72      0  \n",
      "fraud\n",
      "0    587443\n",
      "1      7200\n",
      "Name: count, dtype: int64\n"
     ]
    }
   ],
   "source": [
    "\n",
    "import pandas as pd\n",
    "\n",
    "df = pd.read_csv('../data/bs140513_032310.csv')\n",
    "print(df.head())\n",
    "print(df['fraud'].value_counts())\n"
   ]
  },
  {
   "cell_type": "code",
   "execution_count": 2,
   "id": "0be21543",
   "metadata": {},
   "outputs": [],
   "source": [
    "\n",
    "import re\n",
    "\n",
    "def get_numeric_id(customer_id):\n",
    "    numeric_only = re.sub(r'[^0-9]', '', str(customer_id))\n",
    "    return int(numeric_only) if numeric_only else 0\n",
    "\n",
    "df['device_fp'] = df['customer'].apply(lambda x: f\"fp_{get_numeric_id(x) % 1000}\")\n"
   ]
  },
  {
   "cell_type": "code",
   "execution_count": 3,
   "id": "254201ef",
   "metadata": {},
   "outputs": [],
   "source": [
    "\n",
    "import networkx as nx\n",
    "\n",
    "G = nx.Graph()\n",
    "for _, row in df.iterrows():\n",
    "    if row['fraud'] == 0:  # Use only normal transactions for training\n",
    "        u = f\"user_{row['customer']}\"\n",
    "        m = f\"merch_{row['merchant']}\"\n",
    "        G.add_node(u, type='user')\n",
    "        G.add_node(m, type='merchant')\n",
    "        G.add_edge(u, m)\n"
   ]
  },
  {
   "cell_type": "code",
   "execution_count": 5,
   "id": "c3a17f01",
   "metadata": {},
   "outputs": [],
   "source": [
    "\n",
    "import torch\n",
    "from torch_geometric.utils import from_networkx\n",
    "from torch_geometric.data import Data\n",
    "\n",
    "data = from_networkx(G)\n",
    "data.x = torch.eye(data.num_nodes)  # Identity features as placeholder\n"
   ]
  },
  {
   "cell_type": "code",
   "execution_count": 6,
   "id": "a9ef7c3e",
   "metadata": {},
   "outputs": [],
   "source": [
    "\n",
    "from torch_geometric.nn import GAE, SAGEConv\n",
    "\n",
    "class GNNEncoder(torch.nn.Module):\n",
    "    def __init__(self, in_channels, out_channels):\n",
    "        super().__init__()\n",
    "        self.conv1 = SAGEConv(in_channels, 2 * out_channels)\n",
    "        self.conv2 = SAGEConv(2 * out_channels, out_channels)\n",
    "\n",
    "    def forward(self, x, edge_index):\n",
    "        x = self.conv1(x, edge_index).relu()\n",
    "        return self.conv2(x, edge_index)\n",
    "\n",
    "encoder = GNNEncoder(data.num_node_features, 32)\n",
    "model = GAE(encoder)\n"
   ]
  },
  {
   "cell_type": "code",
   "execution_count": 7,
   "id": "7a55e321",
   "metadata": {},
   "outputs": [
    {
     "name": "stderr",
     "output_type": "stream",
     "text": [
      "d:\\Henry\\Doucments\\Documents\\UM\\sem5\\payhack\\PayHack2025-1\\payhackenv\\Lib\\site-packages\\torch_geometric\\deprecation.py:26: UserWarning: 'train_test_split_edges' is deprecated, use 'transforms.RandomLinkSplit' instead\n",
      "  warnings.warn(out)\n"
     ]
    },
    {
     "name": "stdout",
     "output_type": "stream",
     "text": [
      "Epoch 10, Loss: 1.0605\n",
      "Epoch 20, Loss: 0.8523\n",
      "Epoch 30, Loss: 1.1409\n",
      "Epoch 40, Loss: 0.9314\n",
      "Epoch 50, Loss: 0.8461\n",
      "Epoch 60, Loss: 0.8142\n",
      "Epoch 70, Loss: 0.7971\n",
      "Epoch 80, Loss: 0.7859\n",
      "Epoch 90, Loss: 0.7766\n",
      "Epoch 100, Loss: 0.7718\n"
     ]
    }
   ],
   "source": [
    "\n",
    "from torch_geometric.utils import train_test_split_edges\n",
    "\n",
    "data = train_test_split_edges(data)\n",
    "\n",
    "optimizer = torch.optim.Adam(model.parameters(), lr=0.01)\n",
    "\n",
    "def train():\n",
    "    model.train()\n",
    "    optimizer.zero_grad()\n",
    "    z = model.encode(data.x, data.train_pos_edge_index)\n",
    "    loss = model.recon_loss(z, data.train_pos_edge_index)\n",
    "    loss.backward()\n",
    "    optimizer.step()\n",
    "    return loss.item()\n",
    "\n",
    "for epoch in range(1, 101):\n",
    "    loss = train()\n",
    "    if epoch % 10 == 0:\n",
    "        print(f\"Epoch {epoch}, Loss: {loss:.4f}\")\n"
   ]
  },
  {
   "cell_type": "code",
   "execution_count": 8,
   "id": "c7d39c59",
   "metadata": {},
   "outputs": [
    {
     "name": "stdout",
     "output_type": "stream",
     "text": [
      "AUC Score: 0.9960\n"
     ]
    }
   ],
   "source": [
    "\n",
    "from sklearn.metrics import roc_auc_score\n",
    "from torch_geometric.utils import negative_sampling\n",
    "\n",
    "model.eval()\n",
    "with torch.no_grad():\n",
    "    z = model.encode(data.x, data.train_pos_edge_index)\n",
    "    pos_pred = model.decoder(z, data.test_pos_edge_index).squeeze()\n",
    "\n",
    "    neg_edge_index = negative_sampling(\n",
    "        edge_index=data.train_pos_edge_index,\n",
    "        num_nodes=z.size(0),\n",
    "        num_neg_samples=data.test_pos_edge_index.size(1)\n",
    "    )\n",
    "    neg_pred = model.decoder(z, neg_edge_index).squeeze()\n",
    "\n",
    "    y_true = torch.cat([torch.ones(pos_pred.size(0)), torch.zeros(neg_pred.size(0))])\n",
    "    y_score = torch.cat([pos_pred, neg_pred])\n",
    "\n",
    "    auc = roc_auc_score(y_true.cpu(), y_score.cpu())\n",
    "    print(f\"AUC Score: {auc:.4f}\")\n"
   ]
  }
 ],
 "metadata": {
  "kernelspec": {
   "display_name": "payhackenv",
   "language": "python",
   "name": "python3"
  },
  "language_info": {
   "codemirror_mode": {
    "name": "ipython",
    "version": 3
   },
   "file_extension": ".py",
   "mimetype": "text/x-python",
   "name": "python",
   "nbconvert_exporter": "python",
   "pygments_lexer": "ipython3",
   "version": "3.13.5"
  }
 },
 "nbformat": 4,
 "nbformat_minor": 5
}
